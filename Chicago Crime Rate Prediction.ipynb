{
 "cells": [
  {
   "cell_type": "markdown",
   "metadata": {},
   "source": [
    "# Predicting Crime Rate In Chicago Using Facebook Prophet"
   ]
  },
  {
   "cell_type": "markdown",
   "metadata": {},
   "source": [
    "# Problem Statement:"
   ]
  },
  {
   "cell_type": "markdown",
   "metadata": {},
   "source": [
    "- The Chicago Crime dataset contains a summary of the reported crimes occurred in the City of Chicago from 2001 to 2017. \n",
    "- Dataset has been obtained from the Chicago Police Department's CLEAR (Citizen Law Enforcement Analysis and Reporting) system.\n",
    "- Dataset contains the following columns: \n",
    "    - ID: Unique identifier for the record.\n",
    "    - Case Number: The Chicago Police Department RD Number (Records Division Number), which is unique to the incident.\n",
    "    - Date: Date when the incident occurred.\n",
    "    - Block: address where the incident occurred\n",
    "    - IUCR: The Illinois Unifrom Crime Reporting code.\n",
    "    - Primary Type: The primary description of the IUCR code.\n",
    "    - Description: The secondary description of the IUCR code, a subcategory of the primary description.\n",
    "    - Location Description: Description of the location where the incident occurred.\n",
    "    - Arrest: Indicates whether an arrest was made.\n",
    "    - Domestic: Indicates whether the incident was domestic-related as defined by the Illinois Domestic Violence Act.\n",
    "    - Beat: Indicates the beat where the incident occurred. A beat is the smallest police geographic area – each beat has a dedicated police beat car. \n",
    "    - District: Indicates the police district where the incident occurred. \n",
    "    - Ward: The ward (City Council district) where the incident occurred. \n",
    "    - Community Area: Indicates the community area where the incident occurred. Chicago has 77 community areas. \n",
    "    - FBI Code: Indicates the crime classification as outlined in the FBI's National Incident-Based Reporting System (NIBRS). \n",
    "    - X Coordinate: The x coordinate of the location where the incident occurred in State Plane Illinois East NAD 1983 projection. \n",
    "    - Y Coordinate: The y coordinate of the location where the incident occurred in State Plane Illinois East NAD 1983 projection. \n",
    "    - Year: Year the incident occurred.\n",
    "    - Updated On: Date and time the record was last updated.\n",
    "    - Latitude: The latitude of the location where the incident occurred. This location is shifted from the actual location for partial redaction but falls on the same block.\n",
    "    - Longitude: The longitude of the location where the incident occurred. This location is shifted from the actual location for partial redaction but falls on the same block.\n",
    "    - Location: The location where the incident occurred in a format that allows for creation of maps and other geographic operations on this data portal. This location is shifted from the actual location for partial redaction but falls on the same block.\n",
    "- Datasource: https://www.kaggle.com/currie32/crimes-in-chicago"
   ]
  },
  {
   "cell_type": "markdown",
   "metadata": {},
   "source": [
    "# Step #1: Importing Data"
   ]
  },
  {
   "cell_type": "code",
   "execution_count": 1,
   "metadata": {},
   "outputs": [],
   "source": [
    "import pandas as pd\n",
    "import numpy as np\n",
    "import matplotlib.pyplot as plt\n",
    "from fbprophet import Prophet"
   ]
  },
  {
   "cell_type": "markdown",
   "metadata": {},
   "source": [
    "Load dataframes:"
   ]
  },
  {
   "cell_type": "code",
   "execution_count": 2,
   "metadata": {},
   "outputs": [
    {
     "name": "stderr",
     "output_type": "stream",
     "text": [
      "b'Skipping line 533719: expected 23 fields, saw 24\\n'\n",
      "b'Skipping line 1149094: expected 23 fields, saw 41\\n'\n"
     ]
    }
   ],
   "source": [
    "chicago_df_1 = pd.read_csv(\"Chicago_Crimes_2005_to_2007.csv\", error_bad_lines= False)\n",
    "chicago_df_2 = pd.read_csv(\"Chicago_Crimes_2008_to_2011.csv\", error_bad_lines= False)\n",
    "chicago_df_3 = pd.read_csv(\"Chicago_Crimes_2012_to_2017.csv\", error_bad_lines= False)"
   ]
  },
  {
   "cell_type": "markdown",
   "metadata": {},
   "source": [
    "Check the shape of each of the three dataframes."
   ]
  },
  {
   "cell_type": "code",
   "execution_count": 3,
   "metadata": {},
   "outputs": [
    {
     "data": {
      "text/plain": [
       "(1872343, 23)"
      ]
     },
     "execution_count": 3,
     "metadata": {},
     "output_type": "execute_result"
    }
   ],
   "source": [
    "chicago_df_1.shape"
   ]
  },
  {
   "cell_type": "code",
   "execution_count": 4,
   "metadata": {},
   "outputs": [
    {
     "data": {
      "text/plain": [
       "(2688710, 23)"
      ]
     },
     "execution_count": 4,
     "metadata": {},
     "output_type": "execute_result"
    }
   ],
   "source": [
    "chicago_df_2.shape"
   ]
  },
  {
   "cell_type": "code",
   "execution_count": 5,
   "metadata": {},
   "outputs": [
    {
     "data": {
      "text/plain": [
       "(1456714, 23)"
      ]
     },
     "execution_count": 5,
     "metadata": {},
     "output_type": "execute_result"
    }
   ],
   "source": [
    "chicago_df_3.shape"
   ]
  },
  {
   "cell_type": "markdown",
   "metadata": {},
   "source": [
    "Concatenate"
   ]
  },
  {
   "cell_type": "code",
   "execution_count": 6,
   "metadata": {},
   "outputs": [],
   "source": [
    "chicago_df = pd.concat([chicago_df_1, chicago_df_2, chicago_df_3])"
   ]
  },
  {
   "cell_type": "code",
   "execution_count": 7,
   "metadata": {},
   "outputs": [
    {
     "data": {
      "text/plain": [
       "(6017767, 23)"
      ]
     },
     "execution_count": 7,
     "metadata": {},
     "output_type": "execute_result"
    }
   ],
   "source": [
    "chicago_df.shape"
   ]
  },
  {
   "cell_type": "markdown",
   "metadata": {},
   "source": [
    "# Step #2: Exploring The Dataset  "
   ]
  },
  {
   "cell_type": "code",
   "execution_count": 8,
   "metadata": {},
   "outputs": [
    {
     "data": {
      "text/html": [
       "<div>\n",
       "<style scoped>\n",
       "    .dataframe tbody tr th:only-of-type {\n",
       "        vertical-align: middle;\n",
       "    }\n",
       "\n",
       "    .dataframe tbody tr th {\n",
       "        vertical-align: top;\n",
       "    }\n",
       "\n",
       "    .dataframe thead th {\n",
       "        text-align: right;\n",
       "    }\n",
       "</style>\n",
       "<table border=\"1\" class=\"dataframe\">\n",
       "  <thead>\n",
       "    <tr style=\"text-align: right;\">\n",
       "      <th></th>\n",
       "      <th>Unnamed: 0</th>\n",
       "      <th>ID</th>\n",
       "      <th>Case Number</th>\n",
       "      <th>Date</th>\n",
       "      <th>Block</th>\n",
       "      <th>IUCR</th>\n",
       "      <th>Primary Type</th>\n",
       "      <th>Description</th>\n",
       "      <th>Location Description</th>\n",
       "      <th>Arrest</th>\n",
       "      <th>...</th>\n",
       "      <th>Ward</th>\n",
       "      <th>Community Area</th>\n",
       "      <th>FBI Code</th>\n",
       "      <th>X Coordinate</th>\n",
       "      <th>Y Coordinate</th>\n",
       "      <th>Year</th>\n",
       "      <th>Updated On</th>\n",
       "      <th>Latitude</th>\n",
       "      <th>Longitude</th>\n",
       "      <th>Location</th>\n",
       "    </tr>\n",
       "  </thead>\n",
       "  <tbody>\n",
       "    <tr>\n",
       "      <th>0</th>\n",
       "      <td>0</td>\n",
       "      <td>4673626</td>\n",
       "      <td>HM274058</td>\n",
       "      <td>04/02/2006 01:00:00 PM</td>\n",
       "      <td>055XX N MANGO AVE</td>\n",
       "      <td>2825</td>\n",
       "      <td>OTHER OFFENSE</td>\n",
       "      <td>HARASSMENT BY TELEPHONE</td>\n",
       "      <td>RESIDENCE</td>\n",
       "      <td>False</td>\n",
       "      <td>...</td>\n",
       "      <td>45.0</td>\n",
       "      <td>11.0</td>\n",
       "      <td>26</td>\n",
       "      <td>1136872.0</td>\n",
       "      <td>1936499.0</td>\n",
       "      <td>2006</td>\n",
       "      <td>04/15/2016 08:55:02 AM</td>\n",
       "      <td>41.981913</td>\n",
       "      <td>-87.771996</td>\n",
       "      <td>(41.981912692, -87.771996382)</td>\n",
       "    </tr>\n",
       "    <tr>\n",
       "      <th>1</th>\n",
       "      <td>1</td>\n",
       "      <td>4673627</td>\n",
       "      <td>HM202199</td>\n",
       "      <td>02/26/2006 01:40:48 PM</td>\n",
       "      <td>065XX S RHODES AVE</td>\n",
       "      <td>2017</td>\n",
       "      <td>NARCOTICS</td>\n",
       "      <td>MANU/DELIVER:CRACK</td>\n",
       "      <td>SIDEWALK</td>\n",
       "      <td>True</td>\n",
       "      <td>...</td>\n",
       "      <td>20.0</td>\n",
       "      <td>42.0</td>\n",
       "      <td>18</td>\n",
       "      <td>1181027.0</td>\n",
       "      <td>1861693.0</td>\n",
       "      <td>2006</td>\n",
       "      <td>04/15/2016 08:55:02 AM</td>\n",
       "      <td>41.775733</td>\n",
       "      <td>-87.611920</td>\n",
       "      <td>(41.775732538, -87.611919814)</td>\n",
       "    </tr>\n",
       "    <tr>\n",
       "      <th>2</th>\n",
       "      <td>2</td>\n",
       "      <td>4673628</td>\n",
       "      <td>HM113861</td>\n",
       "      <td>01/08/2006 11:16:00 PM</td>\n",
       "      <td>013XX E 69TH ST</td>\n",
       "      <td>051A</td>\n",
       "      <td>ASSAULT</td>\n",
       "      <td>AGGRAVATED: HANDGUN</td>\n",
       "      <td>OTHER</td>\n",
       "      <td>False</td>\n",
       "      <td>...</td>\n",
       "      <td>5.0</td>\n",
       "      <td>69.0</td>\n",
       "      <td>04A</td>\n",
       "      <td>1186023.0</td>\n",
       "      <td>1859609.0</td>\n",
       "      <td>2006</td>\n",
       "      <td>04/15/2016 08:55:02 AM</td>\n",
       "      <td>41.769897</td>\n",
       "      <td>-87.593671</td>\n",
       "      <td>(41.769897392, -87.593670899)</td>\n",
       "    </tr>\n",
       "    <tr>\n",
       "      <th>3</th>\n",
       "      <td>4</td>\n",
       "      <td>4673629</td>\n",
       "      <td>HM274049</td>\n",
       "      <td>04/05/2006 06:45:00 PM</td>\n",
       "      <td>061XX W NEWPORT AVE</td>\n",
       "      <td>0460</td>\n",
       "      <td>BATTERY</td>\n",
       "      <td>SIMPLE</td>\n",
       "      <td>RESIDENCE</td>\n",
       "      <td>False</td>\n",
       "      <td>...</td>\n",
       "      <td>38.0</td>\n",
       "      <td>17.0</td>\n",
       "      <td>08B</td>\n",
       "      <td>1134772.0</td>\n",
       "      <td>1922299.0</td>\n",
       "      <td>2006</td>\n",
       "      <td>04/15/2016 08:55:02 AM</td>\n",
       "      <td>41.942984</td>\n",
       "      <td>-87.780057</td>\n",
       "      <td>(41.942984005, -87.780056951)</td>\n",
       "    </tr>\n",
       "    <tr>\n",
       "      <th>4</th>\n",
       "      <td>5</td>\n",
       "      <td>4673630</td>\n",
       "      <td>HM187120</td>\n",
       "      <td>02/17/2006 09:03:14 PM</td>\n",
       "      <td>037XX W 60TH ST</td>\n",
       "      <td>1811</td>\n",
       "      <td>NARCOTICS</td>\n",
       "      <td>POSS: CANNABIS 30GMS OR LESS</td>\n",
       "      <td>ALLEY</td>\n",
       "      <td>True</td>\n",
       "      <td>...</td>\n",
       "      <td>13.0</td>\n",
       "      <td>65.0</td>\n",
       "      <td>18</td>\n",
       "      <td>1152412.0</td>\n",
       "      <td>1864560.0</td>\n",
       "      <td>2006</td>\n",
       "      <td>04/15/2016 08:55:02 AM</td>\n",
       "      <td>41.784211</td>\n",
       "      <td>-87.716745</td>\n",
       "      <td>(41.784210853, -87.71674491)</td>\n",
       "    </tr>\n",
       "    <tr>\n",
       "      <th>5</th>\n",
       "      <td>6</td>\n",
       "      <td>4673631</td>\n",
       "      <td>HM263167</td>\n",
       "      <td>03/30/2006 10:30:00 PM</td>\n",
       "      <td>014XX W 73RD PL</td>\n",
       "      <td>0560</td>\n",
       "      <td>ASSAULT</td>\n",
       "      <td>SIMPLE</td>\n",
       "      <td>APARTMENT</td>\n",
       "      <td>True</td>\n",
       "      <td>...</td>\n",
       "      <td>17.0</td>\n",
       "      <td>67.0</td>\n",
       "      <td>08A</td>\n",
       "      <td>1167688.0</td>\n",
       "      <td>1855998.0</td>\n",
       "      <td>2006</td>\n",
       "      <td>04/15/2016 08:55:02 AM</td>\n",
       "      <td>41.760401</td>\n",
       "      <td>-87.660982</td>\n",
       "      <td>(41.760401372, -87.660982392)</td>\n",
       "    </tr>\n",
       "    <tr>\n",
       "      <th>6</th>\n",
       "      <td>7</td>\n",
       "      <td>4673632</td>\n",
       "      <td>HM273234</td>\n",
       "      <td>04/05/2006 12:10:00 PM</td>\n",
       "      <td>050XX N LARAMIE AVE</td>\n",
       "      <td>0460</td>\n",
       "      <td>BATTERY</td>\n",
       "      <td>SIMPLE</td>\n",
       "      <td>SCHOOL, PUBLIC, BUILDING</td>\n",
       "      <td>True</td>\n",
       "      <td>...</td>\n",
       "      <td>45.0</td>\n",
       "      <td>11.0</td>\n",
       "      <td>08B</td>\n",
       "      <td>1140791.0</td>\n",
       "      <td>1932993.0</td>\n",
       "      <td>2006</td>\n",
       "      <td>04/15/2016 08:55:02 AM</td>\n",
       "      <td>41.972221</td>\n",
       "      <td>-87.757670</td>\n",
       "      <td>(41.972220564, -87.75766982)</td>\n",
       "    </tr>\n",
       "    <tr>\n",
       "      <th>7</th>\n",
       "      <td>8</td>\n",
       "      <td>4673633</td>\n",
       "      <td>HM275105</td>\n",
       "      <td>04/05/2006 03:00:00 PM</td>\n",
       "      <td>067XX S ROCKWELL ST</td>\n",
       "      <td>0820</td>\n",
       "      <td>THEFT</td>\n",
       "      <td>$500 AND UNDER</td>\n",
       "      <td>STREET</td>\n",
       "      <td>False</td>\n",
       "      <td>...</td>\n",
       "      <td>15.0</td>\n",
       "      <td>66.0</td>\n",
       "      <td>06</td>\n",
       "      <td>1160205.0</td>\n",
       "      <td>1859776.0</td>\n",
       "      <td>2006</td>\n",
       "      <td>04/15/2016 08:55:02 AM</td>\n",
       "      <td>41.770926</td>\n",
       "      <td>-87.688304</td>\n",
       "      <td>(41.770925978, -87.688304107)</td>\n",
       "    </tr>\n",
       "    <tr>\n",
       "      <th>8</th>\n",
       "      <td>9</td>\n",
       "      <td>4673634</td>\n",
       "      <td>HM275063</td>\n",
       "      <td>04/05/2006 09:30:00 PM</td>\n",
       "      <td>019XX W CHICAGO AVE</td>\n",
       "      <td>0560</td>\n",
       "      <td>ASSAULT</td>\n",
       "      <td>SIMPLE</td>\n",
       "      <td>PARKING LOT/GARAGE(NON.RESID.)</td>\n",
       "      <td>False</td>\n",
       "      <td>...</td>\n",
       "      <td>32.0</td>\n",
       "      <td>24.0</td>\n",
       "      <td>08A</td>\n",
       "      <td>1163122.0</td>\n",
       "      <td>1905349.0</td>\n",
       "      <td>2006</td>\n",
       "      <td>04/15/2016 08:55:02 AM</td>\n",
       "      <td>41.895923</td>\n",
       "      <td>-87.676334</td>\n",
       "      <td>(41.895922672, -87.676333733)</td>\n",
       "    </tr>\n",
       "    <tr>\n",
       "      <th>9</th>\n",
       "      <td>10</td>\n",
       "      <td>4673635</td>\n",
       "      <td>HM268513</td>\n",
       "      <td>04/03/2006 03:00:00 AM</td>\n",
       "      <td>063XX S EBERHART AVE</td>\n",
       "      <td>0486</td>\n",
       "      <td>BATTERY</td>\n",
       "      <td>DOMESTIC BATTERY SIMPLE</td>\n",
       "      <td>SIDEWALK</td>\n",
       "      <td>False</td>\n",
       "      <td>...</td>\n",
       "      <td>20.0</td>\n",
       "      <td>42.0</td>\n",
       "      <td>08B</td>\n",
       "      <td>1180669.0</td>\n",
       "      <td>1863047.0</td>\n",
       "      <td>2006</td>\n",
       "      <td>04/15/2016 08:55:02 AM</td>\n",
       "      <td>41.779456</td>\n",
       "      <td>-87.613191</td>\n",
       "      <td>(41.77945628, -87.613190628)</td>\n",
       "    </tr>\n",
       "  </tbody>\n",
       "</table>\n",
       "<p>10 rows × 23 columns</p>\n",
       "</div>"
      ],
      "text/plain": [
       "   Unnamed: 0       ID Case Number                    Date  \\\n",
       "0           0  4673626    HM274058  04/02/2006 01:00:00 PM   \n",
       "1           1  4673627    HM202199  02/26/2006 01:40:48 PM   \n",
       "2           2  4673628    HM113861  01/08/2006 11:16:00 PM   \n",
       "3           4  4673629    HM274049  04/05/2006 06:45:00 PM   \n",
       "4           5  4673630    HM187120  02/17/2006 09:03:14 PM   \n",
       "5           6  4673631    HM263167  03/30/2006 10:30:00 PM   \n",
       "6           7  4673632    HM273234  04/05/2006 12:10:00 PM   \n",
       "7           8  4673633    HM275105  04/05/2006 03:00:00 PM   \n",
       "8           9  4673634    HM275063  04/05/2006 09:30:00 PM   \n",
       "9          10  4673635    HM268513  04/03/2006 03:00:00 AM   \n",
       "\n",
       "                  Block  IUCR   Primary Type                   Description  \\\n",
       "0     055XX N MANGO AVE  2825  OTHER OFFENSE       HARASSMENT BY TELEPHONE   \n",
       "1    065XX S RHODES AVE  2017      NARCOTICS            MANU/DELIVER:CRACK   \n",
       "2       013XX E 69TH ST  051A        ASSAULT           AGGRAVATED: HANDGUN   \n",
       "3   061XX W NEWPORT AVE  0460        BATTERY                        SIMPLE   \n",
       "4       037XX W 60TH ST  1811      NARCOTICS  POSS: CANNABIS 30GMS OR LESS   \n",
       "5       014XX W 73RD PL  0560        ASSAULT                        SIMPLE   \n",
       "6   050XX N LARAMIE AVE  0460        BATTERY                        SIMPLE   \n",
       "7   067XX S ROCKWELL ST  0820          THEFT                $500 AND UNDER   \n",
       "8   019XX W CHICAGO AVE  0560        ASSAULT                        SIMPLE   \n",
       "9  063XX S EBERHART AVE  0486        BATTERY       DOMESTIC BATTERY SIMPLE   \n",
       "\n",
       "             Location Description  Arrest  ...  Ward  Community Area  \\\n",
       "0                       RESIDENCE   False  ...  45.0            11.0   \n",
       "1                        SIDEWALK    True  ...  20.0            42.0   \n",
       "2                           OTHER   False  ...   5.0            69.0   \n",
       "3                       RESIDENCE   False  ...  38.0            17.0   \n",
       "4                           ALLEY    True  ...  13.0            65.0   \n",
       "5                       APARTMENT    True  ...  17.0            67.0   \n",
       "6        SCHOOL, PUBLIC, BUILDING    True  ...  45.0            11.0   \n",
       "7                          STREET   False  ...  15.0            66.0   \n",
       "8  PARKING LOT/GARAGE(NON.RESID.)   False  ...  32.0            24.0   \n",
       "9                        SIDEWALK   False  ...  20.0            42.0   \n",
       "\n",
       "   FBI Code  X Coordinate  Y Coordinate  Year              Updated On  \\\n",
       "0        26     1136872.0     1936499.0  2006  04/15/2016 08:55:02 AM   \n",
       "1        18     1181027.0     1861693.0  2006  04/15/2016 08:55:02 AM   \n",
       "2       04A     1186023.0     1859609.0  2006  04/15/2016 08:55:02 AM   \n",
       "3       08B     1134772.0     1922299.0  2006  04/15/2016 08:55:02 AM   \n",
       "4        18     1152412.0     1864560.0  2006  04/15/2016 08:55:02 AM   \n",
       "5       08A     1167688.0     1855998.0  2006  04/15/2016 08:55:02 AM   \n",
       "6       08B     1140791.0     1932993.0  2006  04/15/2016 08:55:02 AM   \n",
       "7        06     1160205.0     1859776.0  2006  04/15/2016 08:55:02 AM   \n",
       "8       08A     1163122.0     1905349.0  2006  04/15/2016 08:55:02 AM   \n",
       "9       08B     1180669.0     1863047.0  2006  04/15/2016 08:55:02 AM   \n",
       "\n",
       "    Latitude  Longitude                       Location  \n",
       "0  41.981913 -87.771996  (41.981912692, -87.771996382)  \n",
       "1  41.775733 -87.611920  (41.775732538, -87.611919814)  \n",
       "2  41.769897 -87.593671  (41.769897392, -87.593670899)  \n",
       "3  41.942984 -87.780057  (41.942984005, -87.780056951)  \n",
       "4  41.784211 -87.716745   (41.784210853, -87.71674491)  \n",
       "5  41.760401 -87.660982  (41.760401372, -87.660982392)  \n",
       "6  41.972221 -87.757670   (41.972220564, -87.75766982)  \n",
       "7  41.770926 -87.688304  (41.770925978, -87.688304107)  \n",
       "8  41.895923 -87.676334  (41.895922672, -87.676333733)  \n",
       "9  41.779456 -87.613191   (41.77945628, -87.613190628)  \n",
       "\n",
       "[10 rows x 23 columns]"
      ]
     },
     "execution_count": 8,
     "metadata": {},
     "output_type": "execute_result"
    }
   ],
   "source": [
    "chicago_df.head(10)"
   ]
  },
  {
   "cell_type": "code",
   "execution_count": 9,
   "metadata": {},
   "outputs": [
    {
     "data": {
      "text/html": [
       "<div>\n",
       "<style scoped>\n",
       "    .dataframe tbody tr th:only-of-type {\n",
       "        vertical-align: middle;\n",
       "    }\n",
       "\n",
       "    .dataframe tbody tr th {\n",
       "        vertical-align: top;\n",
       "    }\n",
       "\n",
       "    .dataframe thead th {\n",
       "        text-align: right;\n",
       "    }\n",
       "</style>\n",
       "<table border=\"1\" class=\"dataframe\">\n",
       "  <thead>\n",
       "    <tr style=\"text-align: right;\">\n",
       "      <th></th>\n",
       "      <th>Unnamed: 0</th>\n",
       "      <th>ID</th>\n",
       "      <th>Case Number</th>\n",
       "      <th>Date</th>\n",
       "      <th>Block</th>\n",
       "      <th>IUCR</th>\n",
       "      <th>Primary Type</th>\n",
       "      <th>Description</th>\n",
       "      <th>Location Description</th>\n",
       "      <th>Arrest</th>\n",
       "      <th>...</th>\n",
       "      <th>Ward</th>\n",
       "      <th>Community Area</th>\n",
       "      <th>FBI Code</th>\n",
       "      <th>X Coordinate</th>\n",
       "      <th>Y Coordinate</th>\n",
       "      <th>Year</th>\n",
       "      <th>Updated On</th>\n",
       "      <th>Latitude</th>\n",
       "      <th>Longitude</th>\n",
       "      <th>Location</th>\n",
       "    </tr>\n",
       "  </thead>\n",
       "  <tbody>\n",
       "    <tr>\n",
       "      <th>1456704</th>\n",
       "      <td>6249417</td>\n",
       "      <td>10508666</td>\n",
       "      <td>HZ250497</td>\n",
       "      <td>05/03/2016 11:30:00 PM</td>\n",
       "      <td>053XX S PULASKI RD</td>\n",
       "      <td>0320</td>\n",
       "      <td>ROBBERY</td>\n",
       "      <td>STRONGARM - NO WEAPON</td>\n",
       "      <td>SIDEWALK</td>\n",
       "      <td>False</td>\n",
       "      <td>...</td>\n",
       "      <td>23.0</td>\n",
       "      <td>62.0</td>\n",
       "      <td>03</td>\n",
       "      <td>1150606.0</td>\n",
       "      <td>1868988.0</td>\n",
       "      <td>2016</td>\n",
       "      <td>05/10/2016 03:56:50 PM</td>\n",
       "      <td>41.796397</td>\n",
       "      <td>-87.723251</td>\n",
       "      <td>(41.79639731, -87.723251281)</td>\n",
       "    </tr>\n",
       "    <tr>\n",
       "      <th>1456705</th>\n",
       "      <td>6249592</td>\n",
       "      <td>10508671</td>\n",
       "      <td>HZ250526</td>\n",
       "      <td>05/03/2016 11:50:00 PM</td>\n",
       "      <td>036XX E 106TH ST</td>\n",
       "      <td>502P</td>\n",
       "      <td>OTHER OFFENSE</td>\n",
       "      <td>FALSE/STOLEN/ALTERED TRP</td>\n",
       "      <td>ALLEY</td>\n",
       "      <td>True</td>\n",
       "      <td>...</td>\n",
       "      <td>10.0</td>\n",
       "      <td>52.0</td>\n",
       "      <td>26</td>\n",
       "      <td>1202327.0</td>\n",
       "      <td>1835278.0</td>\n",
       "      <td>2016</td>\n",
       "      <td>05/10/2016 03:56:50 PM</td>\n",
       "      <td>41.702731</td>\n",
       "      <td>-87.534736</td>\n",
       "      <td>(41.702731182, -87.534736413)</td>\n",
       "    </tr>\n",
       "    <tr>\n",
       "      <th>1456706</th>\n",
       "      <td>6249615</td>\n",
       "      <td>10508672</td>\n",
       "      <td>HZ250441</td>\n",
       "      <td>05/03/2016 10:25:00 PM</td>\n",
       "      <td>071XX S MOZART ST</td>\n",
       "      <td>0460</td>\n",
       "      <td>BATTERY</td>\n",
       "      <td>SIMPLE</td>\n",
       "      <td>SIDEWALK</td>\n",
       "      <td>True</td>\n",
       "      <td>...</td>\n",
       "      <td>18.0</td>\n",
       "      <td>66.0</td>\n",
       "      <td>08B</td>\n",
       "      <td>1158610.0</td>\n",
       "      <td>1857066.0</td>\n",
       "      <td>2016</td>\n",
       "      <td>05/10/2016 03:56:50 PM</td>\n",
       "      <td>41.763522</td>\n",
       "      <td>-87.694225</td>\n",
       "      <td>(41.763522012, -87.69422464)</td>\n",
       "    </tr>\n",
       "    <tr>\n",
       "      <th>1456707</th>\n",
       "      <td>6249936</td>\n",
       "      <td>10508675</td>\n",
       "      <td>HZ250502</td>\n",
       "      <td>05/03/2016 11:00:00 PM</td>\n",
       "      <td>085XX S MAY ST</td>\n",
       "      <td>0320</td>\n",
       "      <td>ROBBERY</td>\n",
       "      <td>STRONGARM - NO WEAPON</td>\n",
       "      <td>SIDEWALK</td>\n",
       "      <td>False</td>\n",
       "      <td>...</td>\n",
       "      <td>21.0</td>\n",
       "      <td>71.0</td>\n",
       "      <td>03</td>\n",
       "      <td>1170146.0</td>\n",
       "      <td>1848113.0</td>\n",
       "      <td>2016</td>\n",
       "      <td>05/10/2016 03:56:50 PM</td>\n",
       "      <td>41.738711</td>\n",
       "      <td>-87.652203</td>\n",
       "      <td>(41.738710803, -87.652202523)</td>\n",
       "    </tr>\n",
       "    <tr>\n",
       "      <th>1456708</th>\n",
       "      <td>6250154</td>\n",
       "      <td>10508678</td>\n",
       "      <td>HZ250481</td>\n",
       "      <td>05/03/2016 11:28:00 PM</td>\n",
       "      <td>088XX S LAFLIN ST</td>\n",
       "      <td>041A</td>\n",
       "      <td>BATTERY</td>\n",
       "      <td>AGGRAVATED: HANDGUN</td>\n",
       "      <td>STREET</td>\n",
       "      <td>False</td>\n",
       "      <td>...</td>\n",
       "      <td>21.0</td>\n",
       "      <td>71.0</td>\n",
       "      <td>04B</td>\n",
       "      <td>1167880.0</td>\n",
       "      <td>1846134.0</td>\n",
       "      <td>2016</td>\n",
       "      <td>05/10/2016 03:56:50 PM</td>\n",
       "      <td>41.733329</td>\n",
       "      <td>-87.660561</td>\n",
       "      <td>(41.733329054, -87.660561367)</td>\n",
       "    </tr>\n",
       "    <tr>\n",
       "      <th>1456709</th>\n",
       "      <td>6250330</td>\n",
       "      <td>10508679</td>\n",
       "      <td>HZ250507</td>\n",
       "      <td>05/03/2016 11:33:00 PM</td>\n",
       "      <td>026XX W 23RD PL</td>\n",
       "      <td>0486</td>\n",
       "      <td>BATTERY</td>\n",
       "      <td>DOMESTIC BATTERY SIMPLE</td>\n",
       "      <td>APARTMENT</td>\n",
       "      <td>True</td>\n",
       "      <td>...</td>\n",
       "      <td>28.0</td>\n",
       "      <td>30.0</td>\n",
       "      <td>08B</td>\n",
       "      <td>1159105.0</td>\n",
       "      <td>1888300.0</td>\n",
       "      <td>2016</td>\n",
       "      <td>05/10/2016 03:56:50 PM</td>\n",
       "      <td>41.849222</td>\n",
       "      <td>-87.691556</td>\n",
       "      <td>(41.849222028, -87.69155551)</td>\n",
       "    </tr>\n",
       "    <tr>\n",
       "      <th>1456710</th>\n",
       "      <td>6251089</td>\n",
       "      <td>10508680</td>\n",
       "      <td>HZ250491</td>\n",
       "      <td>05/03/2016 11:30:00 PM</td>\n",
       "      <td>073XX S HARVARD AVE</td>\n",
       "      <td>1310</td>\n",
       "      <td>CRIMINAL DAMAGE</td>\n",
       "      <td>TO PROPERTY</td>\n",
       "      <td>APARTMENT</td>\n",
       "      <td>True</td>\n",
       "      <td>...</td>\n",
       "      <td>17.0</td>\n",
       "      <td>69.0</td>\n",
       "      <td>14</td>\n",
       "      <td>1175230.0</td>\n",
       "      <td>1856183.0</td>\n",
       "      <td>2016</td>\n",
       "      <td>05/10/2016 03:56:50 PM</td>\n",
       "      <td>41.760744</td>\n",
       "      <td>-87.633335</td>\n",
       "      <td>(41.760743949, -87.63333531)</td>\n",
       "    </tr>\n",
       "    <tr>\n",
       "      <th>1456711</th>\n",
       "      <td>6251349</td>\n",
       "      <td>10508681</td>\n",
       "      <td>HZ250479</td>\n",
       "      <td>05/03/2016 12:15:00 AM</td>\n",
       "      <td>024XX W 63RD ST</td>\n",
       "      <td>041A</td>\n",
       "      <td>BATTERY</td>\n",
       "      <td>AGGRAVATED: HANDGUN</td>\n",
       "      <td>SIDEWALK</td>\n",
       "      <td>False</td>\n",
       "      <td>...</td>\n",
       "      <td>15.0</td>\n",
       "      <td>66.0</td>\n",
       "      <td>04B</td>\n",
       "      <td>1161027.0</td>\n",
       "      <td>1862810.0</td>\n",
       "      <td>2016</td>\n",
       "      <td>05/10/2016 03:56:50 PM</td>\n",
       "      <td>41.779235</td>\n",
       "      <td>-87.685207</td>\n",
       "      <td>(41.779234743, -87.685207125)</td>\n",
       "    </tr>\n",
       "    <tr>\n",
       "      <th>1456712</th>\n",
       "      <td>6253257</td>\n",
       "      <td>10508690</td>\n",
       "      <td>HZ250370</td>\n",
       "      <td>05/03/2016 09:07:00 PM</td>\n",
       "      <td>082XX S EXCHANGE AVE</td>\n",
       "      <td>0486</td>\n",
       "      <td>BATTERY</td>\n",
       "      <td>DOMESTIC BATTERY SIMPLE</td>\n",
       "      <td>SIDEWALK</td>\n",
       "      <td>False</td>\n",
       "      <td>...</td>\n",
       "      <td>7.0</td>\n",
       "      <td>46.0</td>\n",
       "      <td>08B</td>\n",
       "      <td>1197261.0</td>\n",
       "      <td>1850727.0</td>\n",
       "      <td>2016</td>\n",
       "      <td>05/10/2016 03:56:50 PM</td>\n",
       "      <td>41.745252</td>\n",
       "      <td>-87.552773</td>\n",
       "      <td>(41.745251975, -87.552773464)</td>\n",
       "    </tr>\n",
       "    <tr>\n",
       "      <th>1456713</th>\n",
       "      <td>6253474</td>\n",
       "      <td>10508692</td>\n",
       "      <td>HZ250517</td>\n",
       "      <td>05/03/2016 11:38:00 PM</td>\n",
       "      <td>001XX E 75TH ST</td>\n",
       "      <td>5007</td>\n",
       "      <td>OTHER OFFENSE</td>\n",
       "      <td>OTHER WEAPONS VIOLATION</td>\n",
       "      <td>PARKING LOT/GARAGE(NON.RESID.)</td>\n",
       "      <td>True</td>\n",
       "      <td>...</td>\n",
       "      <td>6.0</td>\n",
       "      <td>69.0</td>\n",
       "      <td>26</td>\n",
       "      <td>1178696.0</td>\n",
       "      <td>1855324.0</td>\n",
       "      <td>2016</td>\n",
       "      <td>05/10/2016 03:56:50 PM</td>\n",
       "      <td>41.758309</td>\n",
       "      <td>-87.620658</td>\n",
       "      <td>(41.75830866, -87.620658418)</td>\n",
       "    </tr>\n",
       "  </tbody>\n",
       "</table>\n",
       "<p>10 rows × 23 columns</p>\n",
       "</div>"
      ],
      "text/plain": [
       "         Unnamed: 0        ID Case Number                    Date  \\\n",
       "1456704     6249417  10508666    HZ250497  05/03/2016 11:30:00 PM   \n",
       "1456705     6249592  10508671    HZ250526  05/03/2016 11:50:00 PM   \n",
       "1456706     6249615  10508672    HZ250441  05/03/2016 10:25:00 PM   \n",
       "1456707     6249936  10508675    HZ250502  05/03/2016 11:00:00 PM   \n",
       "1456708     6250154  10508678    HZ250481  05/03/2016 11:28:00 PM   \n",
       "1456709     6250330  10508679    HZ250507  05/03/2016 11:33:00 PM   \n",
       "1456710     6251089  10508680    HZ250491  05/03/2016 11:30:00 PM   \n",
       "1456711     6251349  10508681    HZ250479  05/03/2016 12:15:00 AM   \n",
       "1456712     6253257  10508690    HZ250370  05/03/2016 09:07:00 PM   \n",
       "1456713     6253474  10508692    HZ250517  05/03/2016 11:38:00 PM   \n",
       "\n",
       "                        Block  IUCR     Primary Type  \\\n",
       "1456704    053XX S PULASKI RD  0320          ROBBERY   \n",
       "1456705      036XX E 106TH ST  502P    OTHER OFFENSE   \n",
       "1456706     071XX S MOZART ST  0460          BATTERY   \n",
       "1456707        085XX S MAY ST  0320          ROBBERY   \n",
       "1456708     088XX S LAFLIN ST  041A          BATTERY   \n",
       "1456709       026XX W 23RD PL  0486          BATTERY   \n",
       "1456710   073XX S HARVARD AVE  1310  CRIMINAL DAMAGE   \n",
       "1456711       024XX W 63RD ST  041A          BATTERY   \n",
       "1456712  082XX S EXCHANGE AVE  0486          BATTERY   \n",
       "1456713       001XX E 75TH ST  5007    OTHER OFFENSE   \n",
       "\n",
       "                      Description            Location Description  Arrest  \\\n",
       "1456704     STRONGARM - NO WEAPON                        SIDEWALK   False   \n",
       "1456705  FALSE/STOLEN/ALTERED TRP                           ALLEY    True   \n",
       "1456706                    SIMPLE                        SIDEWALK    True   \n",
       "1456707     STRONGARM - NO WEAPON                        SIDEWALK   False   \n",
       "1456708       AGGRAVATED: HANDGUN                          STREET   False   \n",
       "1456709   DOMESTIC BATTERY SIMPLE                       APARTMENT    True   \n",
       "1456710               TO PROPERTY                       APARTMENT    True   \n",
       "1456711       AGGRAVATED: HANDGUN                        SIDEWALK   False   \n",
       "1456712   DOMESTIC BATTERY SIMPLE                        SIDEWALK   False   \n",
       "1456713   OTHER WEAPONS VIOLATION  PARKING LOT/GARAGE(NON.RESID.)    True   \n",
       "\n",
       "         ...  Ward  Community Area  FBI Code  X Coordinate  Y Coordinate  \\\n",
       "1456704  ...  23.0            62.0        03     1150606.0     1868988.0   \n",
       "1456705  ...  10.0            52.0        26     1202327.0     1835278.0   \n",
       "1456706  ...  18.0            66.0       08B     1158610.0     1857066.0   \n",
       "1456707  ...  21.0            71.0        03     1170146.0     1848113.0   \n",
       "1456708  ...  21.0            71.0       04B     1167880.0     1846134.0   \n",
       "1456709  ...  28.0            30.0       08B     1159105.0     1888300.0   \n",
       "1456710  ...  17.0            69.0        14     1175230.0     1856183.0   \n",
       "1456711  ...  15.0            66.0       04B     1161027.0     1862810.0   \n",
       "1456712  ...   7.0            46.0       08B     1197261.0     1850727.0   \n",
       "1456713  ...   6.0            69.0        26     1178696.0     1855324.0   \n",
       "\n",
       "         Year              Updated On   Latitude  Longitude  \\\n",
       "1456704  2016  05/10/2016 03:56:50 PM  41.796397 -87.723251   \n",
       "1456705  2016  05/10/2016 03:56:50 PM  41.702731 -87.534736   \n",
       "1456706  2016  05/10/2016 03:56:50 PM  41.763522 -87.694225   \n",
       "1456707  2016  05/10/2016 03:56:50 PM  41.738711 -87.652203   \n",
       "1456708  2016  05/10/2016 03:56:50 PM  41.733329 -87.660561   \n",
       "1456709  2016  05/10/2016 03:56:50 PM  41.849222 -87.691556   \n",
       "1456710  2016  05/10/2016 03:56:50 PM  41.760744 -87.633335   \n",
       "1456711  2016  05/10/2016 03:56:50 PM  41.779235 -87.685207   \n",
       "1456712  2016  05/10/2016 03:56:50 PM  41.745252 -87.552773   \n",
       "1456713  2016  05/10/2016 03:56:50 PM  41.758309 -87.620658   \n",
       "\n",
       "                              Location  \n",
       "1456704   (41.79639731, -87.723251281)  \n",
       "1456705  (41.702731182, -87.534736413)  \n",
       "1456706   (41.763522012, -87.69422464)  \n",
       "1456707  (41.738710803, -87.652202523)  \n",
       "1456708  (41.733329054, -87.660561367)  \n",
       "1456709   (41.849222028, -87.69155551)  \n",
       "1456710   (41.760743949, -87.63333531)  \n",
       "1456711  (41.779234743, -87.685207125)  \n",
       "1456712  (41.745251975, -87.552773464)  \n",
       "1456713   (41.75830866, -87.620658418)  \n",
       "\n",
       "[10 rows x 23 columns]"
      ]
     },
     "execution_count": 9,
     "metadata": {},
     "output_type": "execute_result"
    }
   ],
   "source": [
    "chicago_df.tail(10)"
   ]
  },
  {
   "cell_type": "markdown",
   "metadata": {},
   "source": [
    "Drop unnecessary fields:"
   ]
  },
  {
   "cell_type": "code",
   "execution_count": 10,
   "metadata": {},
   "outputs": [],
   "source": [
    "chicago_df.drop(['Unnamed: 0','Case Number','ID', 'IUCR','X Coordinate','Y Coordinate', 'Updated On', 'Year', 'FBI Code', 'Beat', 'Ward', 'Community Area', 'Location', 'District', 'Latitude', 'Longitude'], inplace=True, axis=1)"
   ]
  },
  {
   "cell_type": "code",
   "execution_count": 11,
   "metadata": {},
   "outputs": [
    {
     "data": {
      "text/html": [
       "<div>\n",
       "<style scoped>\n",
       "    .dataframe tbody tr th:only-of-type {\n",
       "        vertical-align: middle;\n",
       "    }\n",
       "\n",
       "    .dataframe tbody tr th {\n",
       "        vertical-align: top;\n",
       "    }\n",
       "\n",
       "    .dataframe thead th {\n",
       "        text-align: right;\n",
       "    }\n",
       "</style>\n",
       "<table border=\"1\" class=\"dataframe\">\n",
       "  <thead>\n",
       "    <tr style=\"text-align: right;\">\n",
       "      <th></th>\n",
       "      <th>Date</th>\n",
       "      <th>Block</th>\n",
       "      <th>Primary Type</th>\n",
       "      <th>Description</th>\n",
       "      <th>Location Description</th>\n",
       "      <th>Arrest</th>\n",
       "      <th>Domestic</th>\n",
       "    </tr>\n",
       "  </thead>\n",
       "  <tbody>\n",
       "    <tr>\n",
       "      <th>0</th>\n",
       "      <td>04/02/2006 01:00:00 PM</td>\n",
       "      <td>055XX N MANGO AVE</td>\n",
       "      <td>OTHER OFFENSE</td>\n",
       "      <td>HARASSMENT BY TELEPHONE</td>\n",
       "      <td>RESIDENCE</td>\n",
       "      <td>False</td>\n",
       "      <td>False</td>\n",
       "    </tr>\n",
       "    <tr>\n",
       "      <th>1</th>\n",
       "      <td>02/26/2006 01:40:48 PM</td>\n",
       "      <td>065XX S RHODES AVE</td>\n",
       "      <td>NARCOTICS</td>\n",
       "      <td>MANU/DELIVER:CRACK</td>\n",
       "      <td>SIDEWALK</td>\n",
       "      <td>True</td>\n",
       "      <td>False</td>\n",
       "    </tr>\n",
       "    <tr>\n",
       "      <th>2</th>\n",
       "      <td>01/08/2006 11:16:00 PM</td>\n",
       "      <td>013XX E 69TH ST</td>\n",
       "      <td>ASSAULT</td>\n",
       "      <td>AGGRAVATED: HANDGUN</td>\n",
       "      <td>OTHER</td>\n",
       "      <td>False</td>\n",
       "      <td>False</td>\n",
       "    </tr>\n",
       "    <tr>\n",
       "      <th>3</th>\n",
       "      <td>04/05/2006 06:45:00 PM</td>\n",
       "      <td>061XX W NEWPORT AVE</td>\n",
       "      <td>BATTERY</td>\n",
       "      <td>SIMPLE</td>\n",
       "      <td>RESIDENCE</td>\n",
       "      <td>False</td>\n",
       "      <td>False</td>\n",
       "    </tr>\n",
       "    <tr>\n",
       "      <th>4</th>\n",
       "      <td>02/17/2006 09:03:14 PM</td>\n",
       "      <td>037XX W 60TH ST</td>\n",
       "      <td>NARCOTICS</td>\n",
       "      <td>POSS: CANNABIS 30GMS OR LESS</td>\n",
       "      <td>ALLEY</td>\n",
       "      <td>True</td>\n",
       "      <td>False</td>\n",
       "    </tr>\n",
       "    <tr>\n",
       "      <th>...</th>\n",
       "      <td>...</td>\n",
       "      <td>...</td>\n",
       "      <td>...</td>\n",
       "      <td>...</td>\n",
       "      <td>...</td>\n",
       "      <td>...</td>\n",
       "      <td>...</td>\n",
       "    </tr>\n",
       "    <tr>\n",
       "      <th>1456709</th>\n",
       "      <td>05/03/2016 11:33:00 PM</td>\n",
       "      <td>026XX W 23RD PL</td>\n",
       "      <td>BATTERY</td>\n",
       "      <td>DOMESTIC BATTERY SIMPLE</td>\n",
       "      <td>APARTMENT</td>\n",
       "      <td>True</td>\n",
       "      <td>True</td>\n",
       "    </tr>\n",
       "    <tr>\n",
       "      <th>1456710</th>\n",
       "      <td>05/03/2016 11:30:00 PM</td>\n",
       "      <td>073XX S HARVARD AVE</td>\n",
       "      <td>CRIMINAL DAMAGE</td>\n",
       "      <td>TO PROPERTY</td>\n",
       "      <td>APARTMENT</td>\n",
       "      <td>True</td>\n",
       "      <td>True</td>\n",
       "    </tr>\n",
       "    <tr>\n",
       "      <th>1456711</th>\n",
       "      <td>05/03/2016 12:15:00 AM</td>\n",
       "      <td>024XX W 63RD ST</td>\n",
       "      <td>BATTERY</td>\n",
       "      <td>AGGRAVATED: HANDGUN</td>\n",
       "      <td>SIDEWALK</td>\n",
       "      <td>False</td>\n",
       "      <td>False</td>\n",
       "    </tr>\n",
       "    <tr>\n",
       "      <th>1456712</th>\n",
       "      <td>05/03/2016 09:07:00 PM</td>\n",
       "      <td>082XX S EXCHANGE AVE</td>\n",
       "      <td>BATTERY</td>\n",
       "      <td>DOMESTIC BATTERY SIMPLE</td>\n",
       "      <td>SIDEWALK</td>\n",
       "      <td>False</td>\n",
       "      <td>True</td>\n",
       "    </tr>\n",
       "    <tr>\n",
       "      <th>1456713</th>\n",
       "      <td>05/03/2016 11:38:00 PM</td>\n",
       "      <td>001XX E 75TH ST</td>\n",
       "      <td>OTHER OFFENSE</td>\n",
       "      <td>OTHER WEAPONS VIOLATION</td>\n",
       "      <td>PARKING LOT/GARAGE(NON.RESID.)</td>\n",
       "      <td>True</td>\n",
       "      <td>False</td>\n",
       "    </tr>\n",
       "  </tbody>\n",
       "</table>\n",
       "<p>6017767 rows × 7 columns</p>\n",
       "</div>"
      ],
      "text/plain": [
       "                           Date                 Block     Primary Type  \\\n",
       "0        04/02/2006 01:00:00 PM     055XX N MANGO AVE    OTHER OFFENSE   \n",
       "1        02/26/2006 01:40:48 PM    065XX S RHODES AVE        NARCOTICS   \n",
       "2        01/08/2006 11:16:00 PM       013XX E 69TH ST          ASSAULT   \n",
       "3        04/05/2006 06:45:00 PM   061XX W NEWPORT AVE          BATTERY   \n",
       "4        02/17/2006 09:03:14 PM       037XX W 60TH ST        NARCOTICS   \n",
       "...                         ...                   ...              ...   \n",
       "1456709  05/03/2016 11:33:00 PM       026XX W 23RD PL          BATTERY   \n",
       "1456710  05/03/2016 11:30:00 PM   073XX S HARVARD AVE  CRIMINAL DAMAGE   \n",
       "1456711  05/03/2016 12:15:00 AM       024XX W 63RD ST          BATTERY   \n",
       "1456712  05/03/2016 09:07:00 PM  082XX S EXCHANGE AVE          BATTERY   \n",
       "1456713  05/03/2016 11:38:00 PM       001XX E 75TH ST    OTHER OFFENSE   \n",
       "\n",
       "                          Description            Location Description  Arrest  \\\n",
       "0             HARASSMENT BY TELEPHONE                       RESIDENCE   False   \n",
       "1                  MANU/DELIVER:CRACK                        SIDEWALK    True   \n",
       "2                 AGGRAVATED: HANDGUN                           OTHER   False   \n",
       "3                              SIMPLE                       RESIDENCE   False   \n",
       "4        POSS: CANNABIS 30GMS OR LESS                           ALLEY    True   \n",
       "...                               ...                             ...     ...   \n",
       "1456709       DOMESTIC BATTERY SIMPLE                       APARTMENT    True   \n",
       "1456710                   TO PROPERTY                       APARTMENT    True   \n",
       "1456711           AGGRAVATED: HANDGUN                        SIDEWALK   False   \n",
       "1456712       DOMESTIC BATTERY SIMPLE                        SIDEWALK   False   \n",
       "1456713       OTHER WEAPONS VIOLATION  PARKING LOT/GARAGE(NON.RESID.)    True   \n",
       "\n",
       "         Domestic  \n",
       "0           False  \n",
       "1           False  \n",
       "2           False  \n",
       "3           False  \n",
       "4           False  \n",
       "...           ...  \n",
       "1456709      True  \n",
       "1456710      True  \n",
       "1456711     False  \n",
       "1456712      True  \n",
       "1456713     False  \n",
       "\n",
       "[6017767 rows x 7 columns]"
      ]
     },
     "execution_count": 11,
     "metadata": {},
     "output_type": "execute_result"
    }
   ],
   "source": [
    "chicago_df"
   ]
  },
  {
   "cell_type": "markdown",
   "metadata": {},
   "source": [
    "I'm converting the chicago_df date in the following data representation."
   ]
  },
  {
   "cell_type": "code",
   "execution_count": 12,
   "metadata": {},
   "outputs": [],
   "source": [
    "chicago_df.Date = pd.to_datetime(chicago_df.Date, format = '%m/%d/%Y %I:%M:%S %p')"
   ]
  },
  {
   "cell_type": "code",
   "execution_count": 13,
   "metadata": {},
   "outputs": [
    {
     "data": {
      "text/plain": [
       "0         2006-04-02 13:00:00\n",
       "1         2006-02-26 13:40:48\n",
       "2         2006-01-08 23:16:00\n",
       "3         2006-04-05 18:45:00\n",
       "4         2006-02-17 21:03:14\n",
       "                  ...        \n",
       "1456709   2016-05-03 23:33:00\n",
       "1456710   2016-05-03 23:30:00\n",
       "1456711   2016-05-03 00:15:00\n",
       "1456712   2016-05-03 21:07:00\n",
       "1456713   2016-05-03 23:38:00\n",
       "Name: Date, Length: 6017767, dtype: datetime64[ns]"
      ]
     },
     "execution_count": 13,
     "metadata": {},
     "output_type": "execute_result"
    }
   ],
   "source": [
    "chicago_df.Date"
   ]
  },
  {
   "cell_type": "markdown",
   "metadata": {},
   "source": [
    "I'm representing the chicago_df date column as the Index of the dataset using DatetimeIndex() function."
   ]
  },
  {
   "cell_type": "code",
   "execution_count": 14,
   "metadata": {},
   "outputs": [],
   "source": [
    "chicago_df.index = pd.DatetimeIndex(chicago_df.Date)"
   ]
  },
  {
   "cell_type": "code",
   "execution_count": 15,
   "metadata": {},
   "outputs": [
    {
     "data": {
      "text/html": [
       "<div>\n",
       "<style scoped>\n",
       "    .dataframe tbody tr th:only-of-type {\n",
       "        vertical-align: middle;\n",
       "    }\n",
       "\n",
       "    .dataframe tbody tr th {\n",
       "        vertical-align: top;\n",
       "    }\n",
       "\n",
       "    .dataframe thead th {\n",
       "        text-align: right;\n",
       "    }\n",
       "</style>\n",
       "<table border=\"1\" class=\"dataframe\">\n",
       "  <thead>\n",
       "    <tr style=\"text-align: right;\">\n",
       "      <th></th>\n",
       "      <th>Date</th>\n",
       "      <th>Block</th>\n",
       "      <th>Primary Type</th>\n",
       "      <th>Description</th>\n",
       "      <th>Location Description</th>\n",
       "      <th>Arrest</th>\n",
       "      <th>Domestic</th>\n",
       "    </tr>\n",
       "    <tr>\n",
       "      <th>Date</th>\n",
       "      <th></th>\n",
       "      <th></th>\n",
       "      <th></th>\n",
       "      <th></th>\n",
       "      <th></th>\n",
       "      <th></th>\n",
       "      <th></th>\n",
       "    </tr>\n",
       "  </thead>\n",
       "  <tbody>\n",
       "    <tr>\n",
       "      <th>2006-04-02 13:00:00</th>\n",
       "      <td>2006-04-02 13:00:00</td>\n",
       "      <td>055XX N MANGO AVE</td>\n",
       "      <td>OTHER OFFENSE</td>\n",
       "      <td>HARASSMENT BY TELEPHONE</td>\n",
       "      <td>RESIDENCE</td>\n",
       "      <td>False</td>\n",
       "      <td>False</td>\n",
       "    </tr>\n",
       "    <tr>\n",
       "      <th>2006-02-26 13:40:48</th>\n",
       "      <td>2006-02-26 13:40:48</td>\n",
       "      <td>065XX S RHODES AVE</td>\n",
       "      <td>NARCOTICS</td>\n",
       "      <td>MANU/DELIVER:CRACK</td>\n",
       "      <td>SIDEWALK</td>\n",
       "      <td>True</td>\n",
       "      <td>False</td>\n",
       "    </tr>\n",
       "    <tr>\n",
       "      <th>2006-01-08 23:16:00</th>\n",
       "      <td>2006-01-08 23:16:00</td>\n",
       "      <td>013XX E 69TH ST</td>\n",
       "      <td>ASSAULT</td>\n",
       "      <td>AGGRAVATED: HANDGUN</td>\n",
       "      <td>OTHER</td>\n",
       "      <td>False</td>\n",
       "      <td>False</td>\n",
       "    </tr>\n",
       "    <tr>\n",
       "      <th>2006-04-05 18:45:00</th>\n",
       "      <td>2006-04-05 18:45:00</td>\n",
       "      <td>061XX W NEWPORT AVE</td>\n",
       "      <td>BATTERY</td>\n",
       "      <td>SIMPLE</td>\n",
       "      <td>RESIDENCE</td>\n",
       "      <td>False</td>\n",
       "      <td>False</td>\n",
       "    </tr>\n",
       "    <tr>\n",
       "      <th>2006-02-17 21:03:14</th>\n",
       "      <td>2006-02-17 21:03:14</td>\n",
       "      <td>037XX W 60TH ST</td>\n",
       "      <td>NARCOTICS</td>\n",
       "      <td>POSS: CANNABIS 30GMS OR LESS</td>\n",
       "      <td>ALLEY</td>\n",
       "      <td>True</td>\n",
       "      <td>False</td>\n",
       "    </tr>\n",
       "    <tr>\n",
       "      <th>...</th>\n",
       "      <td>...</td>\n",
       "      <td>...</td>\n",
       "      <td>...</td>\n",
       "      <td>...</td>\n",
       "      <td>...</td>\n",
       "      <td>...</td>\n",
       "      <td>...</td>\n",
       "    </tr>\n",
       "    <tr>\n",
       "      <th>2016-05-03 23:33:00</th>\n",
       "      <td>2016-05-03 23:33:00</td>\n",
       "      <td>026XX W 23RD PL</td>\n",
       "      <td>BATTERY</td>\n",
       "      <td>DOMESTIC BATTERY SIMPLE</td>\n",
       "      <td>APARTMENT</td>\n",
       "      <td>True</td>\n",
       "      <td>True</td>\n",
       "    </tr>\n",
       "    <tr>\n",
       "      <th>2016-05-03 23:30:00</th>\n",
       "      <td>2016-05-03 23:30:00</td>\n",
       "      <td>073XX S HARVARD AVE</td>\n",
       "      <td>CRIMINAL DAMAGE</td>\n",
       "      <td>TO PROPERTY</td>\n",
       "      <td>APARTMENT</td>\n",
       "      <td>True</td>\n",
       "      <td>True</td>\n",
       "    </tr>\n",
       "    <tr>\n",
       "      <th>2016-05-03 00:15:00</th>\n",
       "      <td>2016-05-03 00:15:00</td>\n",
       "      <td>024XX W 63RD ST</td>\n",
       "      <td>BATTERY</td>\n",
       "      <td>AGGRAVATED: HANDGUN</td>\n",
       "      <td>SIDEWALK</td>\n",
       "      <td>False</td>\n",
       "      <td>False</td>\n",
       "    </tr>\n",
       "    <tr>\n",
       "      <th>2016-05-03 21:07:00</th>\n",
       "      <td>2016-05-03 21:07:00</td>\n",
       "      <td>082XX S EXCHANGE AVE</td>\n",
       "      <td>BATTERY</td>\n",
       "      <td>DOMESTIC BATTERY SIMPLE</td>\n",
       "      <td>SIDEWALK</td>\n",
       "      <td>False</td>\n",
       "      <td>True</td>\n",
       "    </tr>\n",
       "    <tr>\n",
       "      <th>2016-05-03 23:38:00</th>\n",
       "      <td>2016-05-03 23:38:00</td>\n",
       "      <td>001XX E 75TH ST</td>\n",
       "      <td>OTHER OFFENSE</td>\n",
       "      <td>OTHER WEAPONS VIOLATION</td>\n",
       "      <td>PARKING LOT/GARAGE(NON.RESID.)</td>\n",
       "      <td>True</td>\n",
       "      <td>False</td>\n",
       "    </tr>\n",
       "  </tbody>\n",
       "</table>\n",
       "<p>6017767 rows × 7 columns</p>\n",
       "</div>"
      ],
      "text/plain": [
       "                                   Date                 Block  \\\n",
       "Date                                                            \n",
       "2006-04-02 13:00:00 2006-04-02 13:00:00     055XX N MANGO AVE   \n",
       "2006-02-26 13:40:48 2006-02-26 13:40:48    065XX S RHODES AVE   \n",
       "2006-01-08 23:16:00 2006-01-08 23:16:00       013XX E 69TH ST   \n",
       "2006-04-05 18:45:00 2006-04-05 18:45:00   061XX W NEWPORT AVE   \n",
       "2006-02-17 21:03:14 2006-02-17 21:03:14       037XX W 60TH ST   \n",
       "...                                 ...                   ...   \n",
       "2016-05-03 23:33:00 2016-05-03 23:33:00       026XX W 23RD PL   \n",
       "2016-05-03 23:30:00 2016-05-03 23:30:00   073XX S HARVARD AVE   \n",
       "2016-05-03 00:15:00 2016-05-03 00:15:00       024XX W 63RD ST   \n",
       "2016-05-03 21:07:00 2016-05-03 21:07:00  082XX S EXCHANGE AVE   \n",
       "2016-05-03 23:38:00 2016-05-03 23:38:00       001XX E 75TH ST   \n",
       "\n",
       "                        Primary Type                   Description  \\\n",
       "Date                                                                 \n",
       "2006-04-02 13:00:00    OTHER OFFENSE       HARASSMENT BY TELEPHONE   \n",
       "2006-02-26 13:40:48        NARCOTICS            MANU/DELIVER:CRACK   \n",
       "2006-01-08 23:16:00          ASSAULT           AGGRAVATED: HANDGUN   \n",
       "2006-04-05 18:45:00          BATTERY                        SIMPLE   \n",
       "2006-02-17 21:03:14        NARCOTICS  POSS: CANNABIS 30GMS OR LESS   \n",
       "...                              ...                           ...   \n",
       "2016-05-03 23:33:00          BATTERY       DOMESTIC BATTERY SIMPLE   \n",
       "2016-05-03 23:30:00  CRIMINAL DAMAGE                   TO PROPERTY   \n",
       "2016-05-03 00:15:00          BATTERY           AGGRAVATED: HANDGUN   \n",
       "2016-05-03 21:07:00          BATTERY       DOMESTIC BATTERY SIMPLE   \n",
       "2016-05-03 23:38:00    OTHER OFFENSE       OTHER WEAPONS VIOLATION   \n",
       "\n",
       "                               Location Description  Arrest  Domestic  \n",
       "Date                                                                   \n",
       "2006-04-02 13:00:00                       RESIDENCE   False     False  \n",
       "2006-02-26 13:40:48                        SIDEWALK    True     False  \n",
       "2006-01-08 23:16:00                           OTHER   False     False  \n",
       "2006-04-05 18:45:00                       RESIDENCE   False     False  \n",
       "2006-02-17 21:03:14                           ALLEY    True     False  \n",
       "...                                             ...     ...       ...  \n",
       "2016-05-03 23:33:00                       APARTMENT    True      True  \n",
       "2016-05-03 23:30:00                       APARTMENT    True      True  \n",
       "2016-05-03 00:15:00                        SIDEWALK   False     False  \n",
       "2016-05-03 21:07:00                        SIDEWALK   False      True  \n",
       "2016-05-03 23:38:00  PARKING LOT/GARAGE(NON.RESID.)    True     False  \n",
       "\n",
       "[6017767 rows x 7 columns]"
      ]
     },
     "execution_count": 15,
     "metadata": {},
     "output_type": "execute_result"
    }
   ],
   "source": [
    "chicago_df"
   ]
  },
  {
   "cell_type": "markdown",
   "metadata": {},
   "source": [
    "Show the number of crimes from the category of 'Primary Type.'"
   ]
  },
  {
   "cell_type": "code",
   "execution_count": 16,
   "metadata": {},
   "outputs": [
    {
     "data": {
      "text/plain": [
       "THEFT                                1245111\n",
       "BATTERY                              1079178\n",
       "CRIMINAL DAMAGE                       702702\n",
       "NARCOTICS                             674831\n",
       "BURGLARY                              369056\n",
       "OTHER OFFENSE                         368169\n",
       "ASSAULT                               360244\n",
       "MOTOR VEHICLE THEFT                   271624\n",
       "ROBBERY                               229467\n",
       "DECEPTIVE PRACTICE                    225180\n",
       "CRIMINAL TRESPASS                     171596\n",
       "PROSTITUTION                           60735\n",
       "WEAPONS VIOLATION                      60335\n",
       "PUBLIC PEACE VIOLATION                 48403\n",
       "OFFENSE INVOLVING CHILDREN             40260\n",
       "CRIM SEXUAL ASSAULT                    22789\n",
       "SEX OFFENSE                            20172\n",
       "GAMBLING                               14755\n",
       "INTERFERENCE WITH PUBLIC OFFICER       14009\n",
       "LIQUOR LAW VIOLATION                   12129\n",
       "ARSON                                   9269\n",
       "HOMICIDE                                5879\n",
       "KIDNAPPING                              4734\n",
       "INTIMIDATION                            3324\n",
       "STALKING                                2866\n",
       "OBSCENITY                                422\n",
       "PUBLIC INDECENCY                         134\n",
       "OTHER NARCOTIC VIOLATION                 122\n",
       "NON-CRIMINAL                              96\n",
       "CONCEALED CARRY LICENSE VIOLATION         90\n",
       "NON - CRIMINAL                            38\n",
       "HUMAN TRAFFICKING                         28\n",
       "RITUALISM                                 16\n",
       "NON-CRIMINAL (SUBJECT SPECIFIED)           4\n",
       "Name: Primary Type, dtype: int64"
      ]
     },
     "execution_count": 16,
     "metadata": {},
     "output_type": "execute_result"
    }
   ],
   "source": [
    "chicago_df['Primary Type'].value_counts()"
   ]
  },
  {
   "cell_type": "markdown",
   "metadata": {},
   "source": [
    "Show the number of crimes from the category of 'Primary Type.' of only the first 15 values"
   ]
  },
  {
   "cell_type": "code",
   "execution_count": 17,
   "metadata": {},
   "outputs": [
    {
     "data": {
      "text/plain": [
       "THEFT                         1245111\n",
       "BATTERY                       1079178\n",
       "CRIMINAL DAMAGE                702702\n",
       "NARCOTICS                      674831\n",
       "BURGLARY                       369056\n",
       "OTHER OFFENSE                  368169\n",
       "ASSAULT                        360244\n",
       "MOTOR VEHICLE THEFT            271624\n",
       "ROBBERY                        229467\n",
       "DECEPTIVE PRACTICE             225180\n",
       "CRIMINAL TRESPASS              171596\n",
       "PROSTITUTION                    60735\n",
       "WEAPONS VIOLATION               60335\n",
       "PUBLIC PEACE VIOLATION          48403\n",
       "OFFENSE INVOLVING CHILDREN      40260\n",
       "Name: Primary Type, dtype: int64"
      ]
     },
     "execution_count": 17,
     "metadata": {},
     "output_type": "execute_result"
    }
   ],
   "source": [
    "chicago_df['Primary Type'].value_counts().iloc[:15]"
   ]
  },
  {
   "cell_type": "markdown",
   "metadata": {},
   "source": [
    "I'm storing the index of the above dataframe into order_data for countplot analysis"
   ]
  },
  {
   "cell_type": "code",
   "execution_count": 18,
   "metadata": {},
   "outputs": [],
   "source": [
    "order_data = chicago_df['Primary Type'].value_counts().iloc[:15].index"
   ]
  },
  {
   "cell_type": "code",
   "execution_count": 19,
   "metadata": {},
   "outputs": [
    {
     "data": {
      "text/plain": [
       "<matplotlib.axes._subplots.AxesSubplot at 0x2581dbf74c0>"
      ]
     },
     "execution_count": 19,
     "metadata": {},
     "output_type": "execute_result"
    },
    {
     "data": {
      "image/png": "[encoded data removed]",
      "text/plain": [
       "<Figure size 1080x720 with 1 Axes>"
      ]
     },
     "metadata": {
      "needs_background": "light"
     },
     "output_type": "display_data"
    }
   ],
   "source": [
    "import seaborn as sns\n",
    "plt.figure(figsize = (15,10))\n",
    "sns.countplot(y= 'Primary Type', data=chicago_df, order= order_data)"
   ]
  },
  {
   "cell_type": "markdown",
   "metadata": {},
   "source": [
    "Same for location description:"
   ]
  },
  {
   "cell_type": "code",
   "execution_count": 20,
   "metadata": {},
   "outputs": [
    {
     "data": {
      "text/plain": [
       "<matplotlib.axes._subplots.AxesSubplot at 0x2581dc00b20>"
      ]
     },
     "execution_count": 20,
     "metadata": {},
     "output_type": "execute_result"
    },
    {
     "data": {
      "image/png": "[encoded data removed]",
      "text/plain": [
       "<Figure size 1080x720 with 1 Axes>"
      ]
     },
     "metadata": {
      "needs_background": "light"
     },
     "output_type": "display_data"
    }
   ],
   "source": [
    "plt.figure(figsize = (15, 10))\n",
    "sns.countplot(y = 'Location Description', data = chicago_df, order = chicago_df['Location Description'].value_counts().iloc[:15].index)"
   ]
  },
  {
   "cell_type": "markdown",
   "metadata": {},
   "source": [
    "With the advantage of chicago_df being a DatetimeIndex() version, Now I can easily resample the count values according to Years, Months and Quarters. Following are the respective representations:"
   ]
  },
  {
   "cell_type": "code",
   "execution_count": 21,
   "metadata": {},
   "outputs": [
    {
     "data": {
      "text/plain": [
       "Date\n",
       "2005-12-31    455811\n",
       "2006-12-31    794684\n",
       "2007-12-31    621848\n",
       "2008-12-31    852053\n",
       "2009-12-31    783900\n",
       "2010-12-31    700691\n",
       "2011-12-31    352066\n",
       "2012-12-31    335670\n",
       "2013-12-31    306703\n",
       "2014-12-31    274527\n",
       "2015-12-31    262995\n",
       "2016-12-31    265462\n",
       "2017-12-31     11357\n",
       "Freq: A-DEC, dtype: int64"
      ]
     },
     "execution_count": 21,
     "metadata": {},
     "output_type": "execute_result"
    }
   ],
   "source": [
    "chicago_df.resample('Y').size()"
   ]
  },
  {
   "cell_type": "code",
   "execution_count": 22,
   "metadata": {},
   "outputs": [
    {
     "data": {
      "text/plain": [
       "Text(0, 0.5, 'Number of Crimes')"
      ]
     },
     "execution_count": 22,
     "metadata": {},
     "output_type": "execute_result"
    },
    {
     "data": {
      "image/png": "[encoded data removed]",
      "text/plain": [
       "<Figure size 432x288 with 1 Axes>"
      ]
     },
     "metadata": {
      "needs_background": "light"
     },
     "output_type": "display_data"
    }
   ],
   "source": [
    "plt.plot(chicago_df.resample('Y').size())\n",
    "plt.title('Crime Count Per Year')\n",
    "plt.xlabel('Years')\n",
    "plt.ylabel('Number of Crimes')"
   ]
  },
  {
   "cell_type": "code",
   "execution_count": 23,
   "metadata": {},
   "outputs": [
    {
     "data": {
      "text/plain": [
       "Text(0, 0.5, 'Number of Crime')"
      ]
     },
     "execution_count": 23,
     "metadata": {},
     "output_type": "execute_result"
    },
    {
     "data": {
      "image/png": "[encoded data removed]",
      "text/plain": [
       "<Figure size 432x288 with 1 Axes>"
      ]
     },
     "metadata": {
      "needs_background": "light"
     },
     "output_type": "display_data"
    }
   ],
   "source": [
    "plt.plot(chicago_df.resample('M').size())\n",
    "plt.title('Crime Count Per Month')\n",
    "plt.xlabel('Months')\n",
    "plt.ylabel('Number of Crime')"
   ]
  },
  {
   "cell_type": "code",
   "execution_count": 24,
   "metadata": {},
   "outputs": [
    {
     "data": {
      "text/plain": [
       "Text(0, 0.5, 'Number of Crime')"
      ]
     },
     "execution_count": 24,
     "metadata": {},
     "output_type": "execute_result"
    },
    {
     "data": {
      "image/png": "[encoded data removed]",
      "text/plain": [
       "<Figure size 432x288 with 1 Axes>"
      ]
     },
     "metadata": {
      "needs_background": "light"
     },
     "output_type": "display_data"
    }
   ],
   "source": [
    "plt.plot(chicago_df.resample('Q').size())\n",
    "plt.title('Crime Count Per Quarter')\n",
    "plt.xlabel('Quarters')\n",
    "plt.ylabel('Number of Crime')"
   ]
  },
  {
   "cell_type": "markdown",
   "metadata": {},
   "source": [
    "# Step #3: Preparing The Data"
   ]
  },
  {
   "cell_type": "markdown",
   "metadata": {},
   "source": [
    "I used the month plot diagram and converted into a dataframe using the reset_index() function"
   ]
  },
  {
   "cell_type": "code",
   "execution_count": 25,
   "metadata": {},
   "outputs": [],
   "source": [
    "chicago_prophet = chicago_df.resample('M').size().reset_index()"
   ]
  },
  {
   "cell_type": "code",
   "execution_count": 26,
   "metadata": {},
   "outputs": [
    {
     "data": {
      "text/html": [
       "<div>\n",
       "<style scoped>\n",
       "    .dataframe tbody tr th:only-of-type {\n",
       "        vertical-align: middle;\n",
       "    }\n",
       "\n",
       "    .dataframe tbody tr th {\n",
       "        vertical-align: top;\n",
       "    }\n",
       "\n",
       "    .dataframe thead th {\n",
       "        text-align: right;\n",
       "    }\n",
       "</style>\n",
       "<table border=\"1\" class=\"dataframe\">\n",
       "  <thead>\n",
       "    <tr style=\"text-align: right;\">\n",
       "      <th></th>\n",
       "      <th>Date</th>\n",
       "      <th>0</th>\n",
       "    </tr>\n",
       "  </thead>\n",
       "  <tbody>\n",
       "    <tr>\n",
       "      <th>0</th>\n",
       "      <td>2005-01-31</td>\n",
       "      <td>33983</td>\n",
       "    </tr>\n",
       "    <tr>\n",
       "      <th>1</th>\n",
       "      <td>2005-02-28</td>\n",
       "      <td>32042</td>\n",
       "    </tr>\n",
       "    <tr>\n",
       "      <th>2</th>\n",
       "      <td>2005-03-31</td>\n",
       "      <td>36970</td>\n",
       "    </tr>\n",
       "    <tr>\n",
       "      <th>3</th>\n",
       "      <td>2005-04-30</td>\n",
       "      <td>38963</td>\n",
       "    </tr>\n",
       "    <tr>\n",
       "      <th>4</th>\n",
       "      <td>2005-05-31</td>\n",
       "      <td>40572</td>\n",
       "    </tr>\n",
       "    <tr>\n",
       "      <th>...</th>\n",
       "      <td>...</td>\n",
       "      <td>...</td>\n",
       "    </tr>\n",
       "    <tr>\n",
       "      <th>140</th>\n",
       "      <td>2016-09-30</td>\n",
       "      <td>23235</td>\n",
       "    </tr>\n",
       "    <tr>\n",
       "      <th>141</th>\n",
       "      <td>2016-10-31</td>\n",
       "      <td>23314</td>\n",
       "    </tr>\n",
       "    <tr>\n",
       "      <th>142</th>\n",
       "      <td>2016-11-30</td>\n",
       "      <td>21140</td>\n",
       "    </tr>\n",
       "    <tr>\n",
       "      <th>143</th>\n",
       "      <td>2016-12-31</td>\n",
       "      <td>19580</td>\n",
       "    </tr>\n",
       "    <tr>\n",
       "      <th>144</th>\n",
       "      <td>2017-01-31</td>\n",
       "      <td>11357</td>\n",
       "    </tr>\n",
       "  </tbody>\n",
       "</table>\n",
       "<p>145 rows × 2 columns</p>\n",
       "</div>"
      ],
      "text/plain": [
       "          Date      0\n",
       "0   2005-01-31  33983\n",
       "1   2005-02-28  32042\n",
       "2   2005-03-31  36970\n",
       "3   2005-04-30  38963\n",
       "4   2005-05-31  40572\n",
       "..         ...    ...\n",
       "140 2016-09-30  23235\n",
       "141 2016-10-31  23314\n",
       "142 2016-11-30  21140\n",
       "143 2016-12-31  19580\n",
       "144 2017-01-31  11357\n",
       "\n",
       "[145 rows x 2 columns]"
      ]
     },
     "execution_count": 26,
     "metadata": {},
     "output_type": "execute_result"
    }
   ],
   "source": [
    "chicago_prophet"
   ]
  },
  {
   "cell_type": "markdown",
   "metadata": {},
   "source": [
    "I changed the columns of 0 to Crime Count"
   ]
  },
  {
   "cell_type": "code",
   "execution_count": 27,
   "metadata": {},
   "outputs": [],
   "source": [
    "chicago_prophet.columns = ['Date', 'Crime Count']"
   ]
  },
  {
   "cell_type": "code",
   "execution_count": 28,
   "metadata": {},
   "outputs": [
    {
     "data": {
      "text/html": [
       "<div>\n",
       "<style scoped>\n",
       "    .dataframe tbody tr th:only-of-type {\n",
       "        vertical-align: middle;\n",
       "    }\n",
       "\n",
       "    .dataframe tbody tr th {\n",
       "        vertical-align: top;\n",
       "    }\n",
       "\n",
       "    .dataframe thead th {\n",
       "        text-align: right;\n",
       "    }\n",
       "</style>\n",
       "<table border=\"1\" class=\"dataframe\">\n",
       "  <thead>\n",
       "    <tr style=\"text-align: right;\">\n",
       "      <th></th>\n",
       "      <th>Date</th>\n",
       "      <th>Crime Count</th>\n",
       "    </tr>\n",
       "  </thead>\n",
       "  <tbody>\n",
       "    <tr>\n",
       "      <th>0</th>\n",
       "      <td>2005-01-31</td>\n",
       "      <td>33983</td>\n",
       "    </tr>\n",
       "    <tr>\n",
       "      <th>1</th>\n",
       "      <td>2005-02-28</td>\n",
       "      <td>32042</td>\n",
       "    </tr>\n",
       "    <tr>\n",
       "      <th>2</th>\n",
       "      <td>2005-03-31</td>\n",
       "      <td>36970</td>\n",
       "    </tr>\n",
       "    <tr>\n",
       "      <th>3</th>\n",
       "      <td>2005-04-30</td>\n",
       "      <td>38963</td>\n",
       "    </tr>\n",
       "    <tr>\n",
       "      <th>4</th>\n",
       "      <td>2005-05-31</td>\n",
       "      <td>40572</td>\n",
       "    </tr>\n",
       "    <tr>\n",
       "      <th>...</th>\n",
       "      <td>...</td>\n",
       "      <td>...</td>\n",
       "    </tr>\n",
       "    <tr>\n",
       "      <th>140</th>\n",
       "      <td>2016-09-30</td>\n",
       "      <td>23235</td>\n",
       "    </tr>\n",
       "    <tr>\n",
       "      <th>141</th>\n",
       "      <td>2016-10-31</td>\n",
       "      <td>23314</td>\n",
       "    </tr>\n",
       "    <tr>\n",
       "      <th>142</th>\n",
       "      <td>2016-11-30</td>\n",
       "      <td>21140</td>\n",
       "    </tr>\n",
       "    <tr>\n",
       "      <th>143</th>\n",
       "      <td>2016-12-31</td>\n",
       "      <td>19580</td>\n",
       "    </tr>\n",
       "    <tr>\n",
       "      <th>144</th>\n",
       "      <td>2017-01-31</td>\n",
       "      <td>11357</td>\n",
       "    </tr>\n",
       "  </tbody>\n",
       "</table>\n",
       "<p>145 rows × 2 columns</p>\n",
       "</div>"
      ],
      "text/plain": [
       "          Date  Crime Count\n",
       "0   2005-01-31        33983\n",
       "1   2005-02-28        32042\n",
       "2   2005-03-31        36970\n",
       "3   2005-04-30        38963\n",
       "4   2005-05-31        40572\n",
       "..         ...          ...\n",
       "140 2016-09-30        23235\n",
       "141 2016-10-31        23314\n",
       "142 2016-11-30        21140\n",
       "143 2016-12-31        19580\n",
       "144 2017-01-31        11357\n",
       "\n",
       "[145 rows x 2 columns]"
      ]
     },
     "execution_count": 28,
     "metadata": {},
     "output_type": "execute_result"
    }
   ],
   "source": [
    "chicago_prophet"
   ]
  },
  {
   "cell_type": "markdown",
   "metadata": {},
   "source": [
    "Renamed columns to ds and y"
   ]
  },
  {
   "cell_type": "code",
   "execution_count": 29,
   "metadata": {},
   "outputs": [],
   "source": [
    "chicago_prophet_df_final = chicago_prophet.rename(columns = {'Date':'ds', 'Crime Count':'y'})"
   ]
  },
  {
   "cell_type": "markdown",
   "metadata": {},
   "source": [
    "# Step #4: Make Predictions"
   ]
  },
  {
   "cell_type": "markdown",
   "metadata": {},
   "source": [
    "I fit this chicago_prophet_df_final dataframe to Prophet() function"
   ]
  },
  {
   "cell_type": "code",
   "execution_count": 30,
   "metadata": {},
   "outputs": [
    {
     "name": "stderr",
     "output_type": "stream",
     "text": [
      "INFO:numexpr.utils:NumExpr defaulting to 4 threads.\n",
      "INFO:fbprophet:Disabling weekly seasonality. Run prophet with weekly_seasonality=True to override this.\n",
      "INFO:fbprophet:Disabling daily seasonality. Run prophet with daily_seasonality=True to override this.\n"
     ]
    },
    {
     "data": {
      "text/plain": [
       "<fbprophet.forecaster.Prophet at 0x2581aaa6430>"
      ]
     },
     "execution_count": 30,
     "metadata": {},
     "output_type": "execute_result"
    }
   ],
   "source": [
    "m = Prophet()\n",
    "m.fit(chicago_prophet_df_final)"
   ]
  },
  {
   "cell_type": "markdown",
   "metadata": {},
   "source": [
    "I predicted trends 1 year and 2 year from the latest crime rates of 2017 respectively:"
   ]
  },
  {
   "cell_type": "code",
   "execution_count": 31,
   "metadata": {},
   "outputs": [],
   "source": [
    "future = m.make_future_dataframe(periods = 365)\n",
    "forecast = m.predict(future)"
   ]
  },
  {
   "cell_type": "code",
   "execution_count": 32,
   "metadata": {},
   "outputs": [
    {
     "data": {
      "text/html": [
       "<div>\n",
       "<style scoped>\n",
       "    .dataframe tbody tr th:only-of-type {\n",
       "        vertical-align: middle;\n",
       "    }\n",
       "\n",
       "    .dataframe tbody tr th {\n",
       "        vertical-align: top;\n",
       "    }\n",
       "\n",
       "    .dataframe thead th {\n",
       "        text-align: right;\n",
       "    }\n",
       "</style>\n",
       "<table border=\"1\" class=\"dataframe\">\n",
       "  <thead>\n",
       "    <tr style=\"text-align: right;\">\n",
       "      <th></th>\n",
       "      <th>ds</th>\n",
       "      <th>trend</th>\n",
       "      <th>yhat_lower</th>\n",
       "      <th>yhat_upper</th>\n",
       "      <th>trend_lower</th>\n",
       "      <th>trend_upper</th>\n",
       "      <th>additive_terms</th>\n",
       "      <th>additive_terms_lower</th>\n",
       "      <th>additive_terms_upper</th>\n",
       "      <th>yearly</th>\n",
       "      <th>yearly_lower</th>\n",
       "      <th>yearly_upper</th>\n",
       "      <th>multiplicative_terms</th>\n",
       "      <th>multiplicative_terms_lower</th>\n",
       "      <th>multiplicative_terms_upper</th>\n",
       "      <th>yhat</th>\n",
       "    </tr>\n",
       "  </thead>\n",
       "  <tbody>\n",
       "    <tr>\n",
       "      <th>0</th>\n",
       "      <td>2005-01-31</td>\n",
       "      <td>60379.720403</td>\n",
       "      <td>38471.651069</td>\n",
       "      <td>71031.325246</td>\n",
       "      <td>60379.720403</td>\n",
       "      <td>60379.720403</td>\n",
       "      <td>-4888.559945</td>\n",
       "      <td>-4888.559945</td>\n",
       "      <td>-4888.559945</td>\n",
       "      <td>-4888.559945</td>\n",
       "      <td>-4888.559945</td>\n",
       "      <td>-4888.559945</td>\n",
       "      <td>0.0</td>\n",
       "      <td>0.0</td>\n",
       "      <td>0.0</td>\n",
       "      <td>55491.160458</td>\n",
       "    </tr>\n",
       "    <tr>\n",
       "      <th>1</th>\n",
       "      <td>2005-02-28</td>\n",
       "      <td>60249.704311</td>\n",
       "      <td>34035.666352</td>\n",
       "      <td>68177.644344</td>\n",
       "      <td>60249.704311</td>\n",
       "      <td>60249.704311</td>\n",
       "      <td>-9556.480896</td>\n",
       "      <td>-9556.480896</td>\n",
       "      <td>-9556.480896</td>\n",
       "      <td>-9556.480896</td>\n",
       "      <td>-9556.480896</td>\n",
       "      <td>-9556.480896</td>\n",
       "      <td>0.0</td>\n",
       "      <td>0.0</td>\n",
       "      <td>0.0</td>\n",
       "      <td>50693.223415</td>\n",
       "    </tr>\n",
       "    <tr>\n",
       "      <th>2</th>\n",
       "      <td>2005-03-31</td>\n",
       "      <td>60105.757924</td>\n",
       "      <td>42653.944490</td>\n",
       "      <td>74899.641616</td>\n",
       "      <td>60105.757924</td>\n",
       "      <td>60105.757924</td>\n",
       "      <td>-1267.695327</td>\n",
       "      <td>-1267.695327</td>\n",
       "      <td>-1267.695327</td>\n",
       "      <td>-1267.695327</td>\n",
       "      <td>-1267.695327</td>\n",
       "      <td>-1267.695327</td>\n",
       "      <td>0.0</td>\n",
       "      <td>0.0</td>\n",
       "      <td>0.0</td>\n",
       "      <td>58838.062597</td>\n",
       "    </tr>\n",
       "    <tr>\n",
       "      <th>3</th>\n",
       "      <td>2005-04-30</td>\n",
       "      <td>59966.454969</td>\n",
       "      <td>45281.644002</td>\n",
       "      <td>77330.852407</td>\n",
       "      <td>59966.454969</td>\n",
       "      <td>59966.454969</td>\n",
       "      <td>1143.949615</td>\n",
       "      <td>1143.949615</td>\n",
       "      <td>1143.949615</td>\n",
       "      <td>1143.949615</td>\n",
       "      <td>1143.949615</td>\n",
       "      <td>1143.949615</td>\n",
       "      <td>0.0</td>\n",
       "      <td>0.0</td>\n",
       "      <td>0.0</td>\n",
       "      <td>61110.404583</td>\n",
       "    </tr>\n",
       "    <tr>\n",
       "      <th>4</th>\n",
       "      <td>2005-05-31</td>\n",
       "      <td>59822.508582</td>\n",
       "      <td>48399.878970</td>\n",
       "      <td>81884.789542</td>\n",
       "      <td>59822.508582</td>\n",
       "      <td>59822.508582</td>\n",
       "      <td>5464.443944</td>\n",
       "      <td>5464.443944</td>\n",
       "      <td>5464.443944</td>\n",
       "      <td>5464.443944</td>\n",
       "      <td>5464.443944</td>\n",
       "      <td>5464.443944</td>\n",
       "      <td>0.0</td>\n",
       "      <td>0.0</td>\n",
       "      <td>0.0</td>\n",
       "      <td>65286.952525</td>\n",
       "    </tr>\n",
       "    <tr>\n",
       "      <th>...</th>\n",
       "      <td>...</td>\n",
       "      <td>...</td>\n",
       "      <td>...</td>\n",
       "      <td>...</td>\n",
       "      <td>...</td>\n",
       "      <td>...</td>\n",
       "      <td>...</td>\n",
       "      <td>...</td>\n",
       "      <td>...</td>\n",
       "      <td>...</td>\n",
       "      <td>...</td>\n",
       "      <td>...</td>\n",
       "      <td>...</td>\n",
       "      <td>...</td>\n",
       "      <td>...</td>\n",
       "      <td>...</td>\n",
       "    </tr>\n",
       "    <tr>\n",
       "      <th>505</th>\n",
       "      <td>2018-01-27</td>\n",
       "      <td>10040.415437</td>\n",
       "      <td>-11457.675661</td>\n",
       "      <td>23483.514222</td>\n",
       "      <td>9887.237031</td>\n",
       "      <td>10189.881543</td>\n",
       "      <td>-4019.723267</td>\n",
       "      <td>-4019.723267</td>\n",
       "      <td>-4019.723267</td>\n",
       "      <td>-4019.723267</td>\n",
       "      <td>-4019.723267</td>\n",
       "      <td>-4019.723267</td>\n",
       "      <td>0.0</td>\n",
       "      <td>0.0</td>\n",
       "      <td>0.0</td>\n",
       "      <td>6020.692171</td>\n",
       "    </tr>\n",
       "    <tr>\n",
       "      <th>506</th>\n",
       "      <td>2018-01-28</td>\n",
       "      <td>10027.195047</td>\n",
       "      <td>-11020.622075</td>\n",
       "      <td>23443.372352</td>\n",
       "      <td>9873.025681</td>\n",
       "      <td>10177.082345</td>\n",
       "      <td>-4201.000275</td>\n",
       "      <td>-4201.000275</td>\n",
       "      <td>-4201.000275</td>\n",
       "      <td>-4201.000275</td>\n",
       "      <td>-4201.000275</td>\n",
       "      <td>-4201.000275</td>\n",
       "      <td>0.0</td>\n",
       "      <td>0.0</td>\n",
       "      <td>0.0</td>\n",
       "      <td>5826.194771</td>\n",
       "    </tr>\n",
       "    <tr>\n",
       "      <th>507</th>\n",
       "      <td>2018-01-29</td>\n",
       "      <td>10013.974656</td>\n",
       "      <td>-11411.272783</td>\n",
       "      <td>22628.518557</td>\n",
       "      <td>9858.814331</td>\n",
       "      <td>10164.370914</td>\n",
       "      <td>-4397.189696</td>\n",
       "      <td>-4397.189696</td>\n",
       "      <td>-4397.189696</td>\n",
       "      <td>-4397.189696</td>\n",
       "      <td>-4397.189696</td>\n",
       "      <td>-4397.189696</td>\n",
       "      <td>0.0</td>\n",
       "      <td>0.0</td>\n",
       "      <td>0.0</td>\n",
       "      <td>5616.784959</td>\n",
       "    </tr>\n",
       "    <tr>\n",
       "      <th>508</th>\n",
       "      <td>2018-01-30</td>\n",
       "      <td>10000.754265</td>\n",
       "      <td>-10266.689280</td>\n",
       "      <td>22047.920790</td>\n",
       "      <td>9844.602980</td>\n",
       "      <td>10151.482626</td>\n",
       "      <td>-4607.406459</td>\n",
       "      <td>-4607.406459</td>\n",
       "      <td>-4607.406459</td>\n",
       "      <td>-4607.406459</td>\n",
       "      <td>-4607.406459</td>\n",
       "      <td>-4607.406459</td>\n",
       "      <td>0.0</td>\n",
       "      <td>0.0</td>\n",
       "      <td>0.0</td>\n",
       "      <td>5393.347806</td>\n",
       "    </tr>\n",
       "    <tr>\n",
       "      <th>509</th>\n",
       "      <td>2018-01-31</td>\n",
       "      <td>9987.533874</td>\n",
       "      <td>-11801.443463</td>\n",
       "      <td>21411.673587</td>\n",
       "      <td>9830.395560</td>\n",
       "      <td>10138.696598</td>\n",
       "      <td>-4830.769400</td>\n",
       "      <td>-4830.769400</td>\n",
       "      <td>-4830.769400</td>\n",
       "      <td>-4830.769400</td>\n",
       "      <td>-4830.769400</td>\n",
       "      <td>-4830.769400</td>\n",
       "      <td>0.0</td>\n",
       "      <td>0.0</td>\n",
       "      <td>0.0</td>\n",
       "      <td>5156.764474</td>\n",
       "    </tr>\n",
       "  </tbody>\n",
       "</table>\n",
       "<p>510 rows × 16 columns</p>\n",
       "</div>"
      ],
      "text/plain": [
       "            ds         trend    yhat_lower    yhat_upper   trend_lower  \\\n",
       "0   2005-01-31  60379.720403  38471.651069  71031.325246  60379.720403   \n",
       "1   2005-02-28  60249.704311  34035.666352  68177.644344  60249.704311   \n",
       "2   2005-03-31  60105.757924  42653.944490  74899.641616  60105.757924   \n",
       "3   2005-04-30  59966.454969  45281.644002  77330.852407  59966.454969   \n",
       "4   2005-05-31  59822.508582  48399.878970  81884.789542  59822.508582   \n",
       "..         ...           ...           ...           ...           ...   \n",
       "505 2018-01-27  10040.415437 -11457.675661  23483.514222   9887.237031   \n",
       "506 2018-01-28  10027.195047 -11020.622075  23443.372352   9873.025681   \n",
       "507 2018-01-29  10013.974656 -11411.272783  22628.518557   9858.814331   \n",
       "508 2018-01-30  10000.754265 -10266.689280  22047.920790   9844.602980   \n",
       "509 2018-01-31   9987.533874 -11801.443463  21411.673587   9830.395560   \n",
       "\n",
       "      trend_upper  additive_terms  additive_terms_lower  additive_terms_upper  \\\n",
       "0    60379.720403    -4888.559945          -4888.559945          -4888.559945   \n",
       "1    60249.704311    -9556.480896          -9556.480896          -9556.480896   \n",
       "2    60105.757924    -1267.695327          -1267.695327          -1267.695327   \n",
       "3    59966.454969     1143.949615           1143.949615           1143.949615   \n",
       "4    59822.508582     5464.443944           5464.443944           5464.443944   \n",
       "..            ...             ...                   ...                   ...   \n",
       "505  10189.881543    -4019.723267          -4019.723267          -4019.723267   \n",
       "506  10177.082345    -4201.000275          -4201.000275          -4201.000275   \n",
       "507  10164.370914    -4397.189696          -4397.189696          -4397.189696   \n",
       "508  10151.482626    -4607.406459          -4607.406459          -4607.406459   \n",
       "509  10138.696598    -4830.769400          -4830.769400          -4830.769400   \n",
       "\n",
       "          yearly  yearly_lower  yearly_upper  multiplicative_terms  \\\n",
       "0   -4888.559945  -4888.559945  -4888.559945                   0.0   \n",
       "1   -9556.480896  -9556.480896  -9556.480896                   0.0   \n",
       "2   -1267.695327  -1267.695327  -1267.695327                   0.0   \n",
       "3    1143.949615   1143.949615   1143.949615                   0.0   \n",
       "4    5464.443944   5464.443944   5464.443944                   0.0   \n",
       "..           ...           ...           ...                   ...   \n",
       "505 -4019.723267  -4019.723267  -4019.723267                   0.0   \n",
       "506 -4201.000275  -4201.000275  -4201.000275                   0.0   \n",
       "507 -4397.189696  -4397.189696  -4397.189696                   0.0   \n",
       "508 -4607.406459  -4607.406459  -4607.406459                   0.0   \n",
       "509 -4830.769400  -4830.769400  -4830.769400                   0.0   \n",
       "\n",
       "     multiplicative_terms_lower  multiplicative_terms_upper          yhat  \n",
       "0                           0.0                         0.0  55491.160458  \n",
       "1                           0.0                         0.0  50693.223415  \n",
       "2                           0.0                         0.0  58838.062597  \n",
       "3                           0.0                         0.0  61110.404583  \n",
       "4                           0.0                         0.0  65286.952525  \n",
       "..                          ...                         ...           ...  \n",
       "505                         0.0                         0.0   6020.692171  \n",
       "506                         0.0                         0.0   5826.194771  \n",
       "507                         0.0                         0.0   5616.784959  \n",
       "508                         0.0                         0.0   5393.347806  \n",
       "509                         0.0                         0.0   5156.764474  \n",
       "\n",
       "[510 rows x 16 columns]"
      ]
     },
     "execution_count": 32,
     "metadata": {},
     "output_type": "execute_result"
    }
   ],
   "source": [
    "forecast"
   ]
  },
  {
   "cell_type": "code",
   "execution_count": 33,
   "metadata": {},
   "outputs": [
    {
     "data": {
      "image/png": "[encoded data removed]",
      "text/plain": [
       "<Figure size 720x432 with 1 Axes>"
      ]
     },
     "metadata": {},
     "output_type": "display_data"
    }
   ],
   "source": [
    "figure = m.plot(forecast, xlabel = 'Date', ylabel = 'Crime Rate')"
   ]
  },
  {
   "cell_type": "code",
   "execution_count": 34,
   "metadata": {},
   "outputs": [
    {
     "data": {
      "image/png": "[encoded data removed]",
      "text/plain": [
       "<Figure size 648x432 with 2 Axes>"
      ]
     },
     "metadata": {},
     "output_type": "display_data"
    }
   ],
   "source": [
    "figure = m.plot_components(forecast)"
   ]
  },
  {
   "cell_type": "code",
   "execution_count": 35,
   "metadata": {},
   "outputs": [],
   "source": [
    "future = m.make_future_dataframe(periods = 730)\n",
    "forecast = m.predict(future)"
   ]
  },
  {
   "cell_type": "code",
   "execution_count": 36,
   "metadata": {},
   "outputs": [
    {
     "data": {
      "image/png": "[encoded data removed]",
      "text/plain": [
       "<Figure size 720x432 with 1 Axes>"
      ]
     },
     "metadata": {},
     "output_type": "display_data"
    }
   ],
   "source": [
    "figure = m.plot(forecast, xlabel = 'Date', ylabel = 'Crime Rate')"
   ]
  },
  {
   "cell_type": "code",
   "execution_count": 37,
   "metadata": {},
   "outputs": [
    {
     "data": {
      "image/png": "[encoded data removed]",
      "text/plain": [
       "<Figure size 648x432 with 2 Axes>"
      ]
     },
     "metadata": {},
     "output_type": "display_data"
    }
   ],
   "source": [
    "figure = m.plot_components(forecast)"
   ]
  },
  {
   "cell_type": "markdown",
   "metadata": {},
   "source": [
    "Here's our final updated prediction. We can observe that there are lower trends every year"
   ]
  }
 ],
 "metadata": {
  "kernelspec": {
   "display_name": "Python 3",
   "language": "python",
   "name": "python3"
  },
  "language_info": {
   "codemirror_mode": {
    "name": "ipython",
    "version": 3
   },
   "file_extension": ".py",
   "mimetype": "text/x-python",
   "name": "python",
   "nbconvert_exporter": "python",
   "pygments_lexer": "ipython3",
   "version": "3.8.3"
  },
  "varInspector": {
   "cols": {
    "lenName": 16,
    "lenType": 16,
    "lenVar": 40
   },
   "kernels_config": {
    "python": {
     "delete_cmd_postfix": "",
     "delete_cmd_prefix": "del ",
     "library": "var_list.py",
     "varRefreshCmd": "print(var_dic_list())"
    },
    "r": {
     "delete_cmd_postfix": ") ",
     "delete_cmd_prefix": "rm(",
     "library": "var_list.r",
     "varRefreshCmd": "cat(var_dic_list()) "
    }
   },
   "types_to_exclude": [
    "module",
    "function",
    "builtin_function_or_method",
    "instance",
    "_Feature"
   ],
   "window_display": false
  },
  "widgets": {
   "state": {},
   "version": "1.1.2"
  }
 },
 "nbformat": 4,
 "nbformat_minor": 2
}
